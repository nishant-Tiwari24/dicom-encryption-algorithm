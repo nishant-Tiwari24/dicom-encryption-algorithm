{
 "cells": [
  {
   "cell_type": "code",
   "execution_count": 11,
   "id": "254f7130-9252-4ed6-bf68-e6ca95c4158f",
   "metadata": {},
   "outputs": [
    {
     "name": "stdout",
     "output_type": "stream",
     "text": [
      "(168, 168, 168)\n"
     ]
    }
   ],
   "source": [
    "from PIL import Image\n",
    "from random import randint\n",
    "import numpy as np\n",
    "import json\n",
    "high = (2**8) - 1\n",
    "low = 0\n",
    "#print(high, low)\n",
    "\n",
    "myImage = Image.open(\"image-00000.jpg\")\n",
    "width, height = myImage.size\n",
    "pixels = myImage.load()\n",
    "print(pixels[0,0])\n",
    "has_alpha = len([pixels[0,0]]) == 4\n",
    "#print(M, N)\n",
    "\n",
    "fill = 1\n",
    "array = [[fill for x in range(width)] for y in range(height)]\n",
    "\n",
    "for y in range(height):\n",
    "    for x in range(width):\n",
    "        if has_alpha:\n",
    "            r, g, b, a = pixels[x,y]\n",
    "        else:\n",
    "            r, g, b = pixels[x,y]\n",
    "        #lum = 255-r # Reversed luminosity\n",
    "        array[y][x] = r # Map values from range 0-255 to 0-1\n",
    "\n",
    "KR = []\n",
    "KC = []\n",
    "\n",
    "for i in range(height):\n",
    "    KR.insert(i, randint(low, high))\n",
    "\n",
    "for i in range(width):\n",
    "    KC.insert(i, randint(low, high))\n",
    "\n",
    "for i in range(height):\n",
    "    alpha = 0\n",
    "    for j in range(width):\n",
    "        alpha = ((alpha%2) + (array[i][j] % 2)) % 2\n",
    "    if(alpha == 0):\n",
    "        for k in range(KR[i]):\n",
    "            temp2 = array[i][width-1]\n",
    "            for l in range(width-1, -1, -1):\n",
    "                array[i][l] = array[i][l-1];\n",
    "            array[i][0] = temp2;\n",
    "    else:\n",
    "        for k in range(KR[i]):\n",
    "            temp2 = array[i][0]\n",
    "            for l in range(width-1):\n",
    "                array[i][l] = array[i][l+1];\n",
    "            array[i][width-1] = temp2;\n",
    "\n",
    "for j in range(width):\n",
    "    beta = 0\n",
    "    for i in range(height):\n",
    "        beta = ((beta%2) + (array[i][j] % 2)) % 2\n",
    "    if(beta == 0):\n",
    "        for k in range(KC[j]):\n",
    "            temp2 = array[height - 1][j]\n",
    "            for l in range(height-1, -1, -1):\n",
    "                array[l][j] = array[l-1][j];\n",
    "            array[0][j] = temp2;\n",
    "    else:\n",
    "        for k in range(KC[j]):\n",
    "            temp2 = array[0][j]\n",
    "            for l in range(height-1):\n",
    "                array[l][j] = array[l+1][j];\n",
    "            array[height-1][j] = temp2;            \n",
    "\n",
    "\n",
    "\n",
    "for j in range(width):\n",
    "    for i in range(height):\n",
    "        if((i%2) !=0 ):\n",
    "            array[i][j] = array[i][j]^KC[j]\n",
    "        else:\n",
    "            array[i][j] = array[i][j]^KC[width-1-j]\n",
    "\n",
    "\n",
    "for i in range(height):\n",
    "    for j in range(width):\n",
    "        if((j%2) !=0 ):\n",
    "            array[i][j] = array[i][j]^KR[i]\n",
    "        else:\n",
    "            array[i][j] = array[i][j]^KR[height-1-i]\n",
    "\n",
    "array1 = np.array(array, dtype=np.uint8)\n",
    "new_image = Image.fromarray(array1)\n",
    "new_image.save('image-encrypt.jpg')\n",
    "\n",
    "with open(\"KR.txt\", \"w\") as outfile:\n",
    "    json.dump(KR, outfile)\n",
    "\n",
    "with open(\"KC.txt\", \"w\") as outfile:\n",
    "    json.dump(KC, outfile)    "
   ]
  },
  {
   "cell_type": "code",
   "execution_count": null,
   "id": "b659e2be-4a36-436a-be2f-1cbc14edc7af",
   "metadata": {},
   "outputs": [],
   "source": [
    "\n"
   ]
  },
  {
   "cell_type": "code",
   "execution_count": null,
   "id": "88c1e1a3-5a35-44e8-be4d-72d341246677",
   "metadata": {},
   "outputs": [],
   "source": [
    "\n"
   ]
  },
  {
   "cell_type": "code",
   "execution_count": null,
   "id": "944307f6-73f7-4b92-b738-be8a90fc6f2e",
   "metadata": {},
   "outputs": [],
   "source": []
  },
  {
   "cell_type": "code",
   "execution_count": null,
   "id": "3b5551b0-119b-44b1-9fac-505b18cbba82",
   "metadata": {},
   "outputs": [],
   "source": []
  },
  {
   "cell_type": "code",
   "execution_count": null,
   "id": "8fe1e97e-192e-48f9-a060-deee3c1dc88f",
   "metadata": {},
   "outputs": [],
   "source": []
  },
  {
   "cell_type": "code",
   "execution_count": null,
   "id": "8555bc8e-4345-4243-92ea-b70f472b88c0",
   "metadata": {},
   "outputs": [],
   "source": []
  },
  {
   "cell_type": "code",
   "execution_count": null,
   "id": "984267b3-b62a-4162-a7b9-1518714fad50",
   "metadata": {},
   "outputs": [],
   "source": [
    "\n",
    "\n"
   ]
  }
 ],
 "metadata": {
  "kernelspec": {
   "display_name": "Python 3 (ipykernel)",
   "language": "python",
   "name": "python3"
  },
  "language_info": {
   "codemirror_mode": {
    "name": "ipython",
    "version": 3
   },
   "file_extension": ".py",
   "mimetype": "text/x-python",
   "name": "python",
   "nbconvert_exporter": "python",
   "pygments_lexer": "ipython3",
   "version": "3.11.7"
  }
 },
 "nbformat": 4,
 "nbformat_minor": 5
}
